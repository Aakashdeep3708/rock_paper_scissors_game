{
 "cells": [
  {
   "cell_type": "code",
   "execution_count": null,
   "id": "1f5b87c6",
   "metadata": {},
   "outputs": [],
   "source": [
    "import random\n",
    "\n",
    "a=int(input('''what do you choose ?\n",
    "0 for rock\n",
    "1 for paper\n",
    "2 for scissors\\n'''))\n",
    "\n",
    "if a==0:\n",
    "    print('You choose \"rock\"')\n",
    "elif a==1:\n",
    "    print('You choose \"paper\"')\n",
    "elif a==2:\n",
    "    print('You choose \"scissors\"')\n",
    "\n",
    "print()\n",
    "    \n",
    "x=random.randint(0,2)\n",
    "if x==0:\n",
    "    print('System choose \"rock\"')\n",
    "elif x==1:\n",
    "    print('System choose \"paper\"')\n",
    "else:\n",
    "    print('System choose \"scissors\"')\n",
    "    \n",
    "print()\n",
    "\n",
    "if a==x:\n",
    "    print(\"it's a tie, wanna try again !\")\n",
    "elif a==0 and x==2 or a==1 and x==0 or a==2 and x==1:\n",
    "    print(\"you are the winner !\")\n",
    "elif a==1 and x==2 or a==0 and x==1 or a==2 and x==0:\n",
    "    print(\"you lose the game !\")\n",
    "else:\n",
    "    print(\"enter a valid input\")"
   ]
  },
  {
   "cell_type": "code",
   "execution_count": null,
   "id": "f14a21e8",
   "metadata": {},
   "outputs": [],
   "source": []
  }
 ],
 "metadata": {
  "kernelspec": {
   "display_name": "Python 3 (ipykernel)",
   "language": "python",
   "name": "python3"
  },
  "language_info": {
   "codemirror_mode": {
    "name": "ipython",
    "version": 3
   },
   "file_extension": ".py",
   "mimetype": "text/x-python",
   "name": "python",
   "nbconvert_exporter": "python",
   "pygments_lexer": "ipython3",
   "version": "3.11.5"
  }
 },
 "nbformat": 4,
 "nbformat_minor": 5
}
